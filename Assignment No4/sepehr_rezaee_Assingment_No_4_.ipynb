{
  "nbformat": 4,
  "nbformat_minor": 0,
  "metadata": {
    "colab": {
      "provenance": []
    },
    "kernelspec": {
      "name": "python3",
      "display_name": "Python 3"
    },
    "language_info": {
      "name": "python"
    }
  },
  "cells": [
    {
      "cell_type": "markdown",
      "source": [
        "### Sepehr Rezaee - 99242067"
      ],
      "metadata": {
        "id": "eUtB2psoR7Pk"
      }
    },
    {
      "cell_type": "code",
      "execution_count": null,
      "metadata": {
        "colab": {
          "base_uri": "https://localhost:8080/"
        },
        "id": "AWYSjM2ZR4Ja",
        "outputId": "f5795e89-d996-4a13-fd9b-530b15f8feee"
      },
      "outputs": [
        {
          "output_type": "stream",
          "name": "stdout",
          "text": [
            "Looking in indexes: https://pypi.org/simple, https://us-python.pkg.dev/colab-wheels/public/simple/\n",
            "Requirement already satisfied: torch in /usr/local/lib/python3.10/dist-packages (2.0.1+cu118)\n",
            "Collecting snntorch\n",
            "  Downloading snntorch-0.6.4-py2.py3-none-any.whl (107 kB)\n",
            "\u001b[2K     \u001b[90m━━━━━━━━━━━━━━━━━━━━━━━━━━━━━━━━━━━━━━━\u001b[0m \u001b[32m107.8/107.8 kB\u001b[0m \u001b[31m4.2 MB/s\u001b[0m eta \u001b[36m0:00:00\u001b[0m\n",
            "\u001b[?25hRequirement already satisfied: filelock in /usr/local/lib/python3.10/dist-packages (from torch) (3.12.2)\n",
            "Requirement already satisfied: typing-extensions in /usr/local/lib/python3.10/dist-packages (from torch) (4.6.3)\n",
            "Requirement already satisfied: sympy in /usr/local/lib/python3.10/dist-packages (from torch) (1.11.1)\n",
            "Requirement already satisfied: networkx in /usr/local/lib/python3.10/dist-packages (from torch) (3.1)\n",
            "Requirement already satisfied: jinja2 in /usr/local/lib/python3.10/dist-packages (from torch) (3.1.2)\n",
            "Requirement already satisfied: triton==2.0.0 in /usr/local/lib/python3.10/dist-packages (from torch) (2.0.0)\n",
            "Requirement already satisfied: cmake in /usr/local/lib/python3.10/dist-packages (from triton==2.0.0->torch) (3.25.2)\n",
            "Requirement already satisfied: lit in /usr/local/lib/python3.10/dist-packages (from triton==2.0.0->torch) (16.0.6)\n",
            "Requirement already satisfied: pandas in /usr/local/lib/python3.10/dist-packages (from snntorch) (1.5.3)\n",
            "Requirement already satisfied: matplotlib in /usr/local/lib/python3.10/dist-packages (from snntorch) (3.7.1)\n",
            "Requirement already satisfied: numpy>=1.17 in /usr/local/lib/python3.10/dist-packages (from snntorch) (1.22.4)\n",
            "Requirement already satisfied: MarkupSafe>=2.0 in /usr/local/lib/python3.10/dist-packages (from jinja2->torch) (2.1.3)\n",
            "Requirement already satisfied: contourpy>=1.0.1 in /usr/local/lib/python3.10/dist-packages (from matplotlib->snntorch) (1.1.0)\n",
            "Requirement already satisfied: cycler>=0.10 in /usr/local/lib/python3.10/dist-packages (from matplotlib->snntorch) (0.11.0)\n",
            "Requirement already satisfied: fonttools>=4.22.0 in /usr/local/lib/python3.10/dist-packages (from matplotlib->snntorch) (4.40.0)\n",
            "Requirement already satisfied: kiwisolver>=1.0.1 in /usr/local/lib/python3.10/dist-packages (from matplotlib->snntorch) (1.4.4)\n",
            "Requirement already satisfied: packaging>=20.0 in /usr/local/lib/python3.10/dist-packages (from matplotlib->snntorch) (23.1)\n",
            "Requirement already satisfied: pillow>=6.2.0 in /usr/local/lib/python3.10/dist-packages (from matplotlib->snntorch) (8.4.0)\n",
            "Requirement already satisfied: pyparsing>=2.3.1 in /usr/local/lib/python3.10/dist-packages (from matplotlib->snntorch) (3.1.0)\n",
            "Requirement already satisfied: python-dateutil>=2.7 in /usr/local/lib/python3.10/dist-packages (from matplotlib->snntorch) (2.8.2)\n",
            "Requirement already satisfied: pytz>=2020.1 in /usr/local/lib/python3.10/dist-packages (from pandas->snntorch) (2022.7.1)\n",
            "Requirement already satisfied: mpmath>=0.19 in /usr/local/lib/python3.10/dist-packages (from sympy->torch) (1.3.0)\n",
            "Requirement already satisfied: six>=1.5 in /usr/local/lib/python3.10/dist-packages (from python-dateutil>=2.7->matplotlib->snntorch) (1.16.0)\n",
            "Installing collected packages: snntorch\n",
            "Successfully installed snntorch-0.6.4\n"
          ]
        }
      ],
      "source": [
        "!pip install torch snntorch"
      ]
    },
    {
      "cell_type": "markdown",
      "source": [
        "### Import dependencies"
      ],
      "metadata": {
        "id": "McNr94oCSE6M"
      }
    },
    {
      "cell_type": "code",
      "source": [
        "import torch\n",
        "import snntorch as snn\n",
        "from snntorch import spikegen\n",
        "from torch.utils.data import TensorDataset, DataLoader"
      ],
      "metadata": {
        "id": "myxUMHrDR9ri"
      },
      "execution_count": null,
      "outputs": []
    },
    {
      "cell_type": "markdown",
      "source": [
        "### Define the network architecture"
      ],
      "metadata": {
        "id": "l5SocE4ZSNoT"
      }
    },
    {
      "cell_type": "code",
      "source": [
        "class STDPNetwork(torch.nn.Module):\n",
        "    def __init__(self, input_size, hidden_size, output_size):\n",
        "        super(STDPNetwork, self).__init__()\n",
        "        self.fc1 = torch.nn.Linear(input_size, hidden_size)\n",
        "        self.lif1 = snn.Leaky(beta=0.1)\n",
        "        self.fc2 = torch.nn.Linear(hidden_size, output_size)\n",
        "        self.lif2 = snn.Leaky(beta=0.1)\n",
        "\n",
        "        # Initialize mem_0 and mem_1 for both layers\n",
        "        self.mem_0_1 = torch.zeros(hidden_size)\n",
        "        self.mem_1_1 = torch.zeros(hidden_size)\n",
        "        self.mem_0_2 = torch.zeros(output_size)\n",
        "        self.mem_1_2 = torch.zeros(output_size)\n",
        "\n",
        "    def forward(self, x):\n",
        "      x = self.fc1(x)\n",
        "      x, self.mem_0_1 = self.lif1(x, self.mem_0_1)\n",
        "      x = self.fc2(x)\n",
        "      x, self.mem_0_2 = self.lif2(x, self.mem_0_2)\n",
        "      return x, self.mem_0_1, self.mem_0_2\n",
        "\n"
      ],
      "metadata": {
        "id": "xgaZA_LFSM9D"
      },
      "execution_count": null,
      "outputs": []
    },
    {
      "cell_type": "markdown",
      "source": [
        "### Initialize the network"
      ],
      "metadata": {
        "id": "zP7u4didSaEr"
      }
    },
    {
      "cell_type": "code",
      "source": [
        "input_size = 4\n",
        "hidden_size = 100\n",
        "output_size = 10\n",
        "net = STDPNetwork(input_size, hidden_size, output_size)"
      ],
      "metadata": {
        "id": "ueLQ0JEQSTIj"
      },
      "execution_count": null,
      "outputs": []
    },
    {
      "cell_type": "markdown",
      "source": [
        "### Define a loss function"
      ],
      "metadata": {
        "id": "EaMhLr-cSeqq"
      }
    },
    {
      "cell_type": "code",
      "source": [
        "loss_fn = torch.nn.MSELoss()"
      ],
      "metadata": {
        "id": "jHbcW0NPSgbp"
      },
      "execution_count": null,
      "outputs": []
    },
    {
      "cell_type": "markdown",
      "source": [
        "### Define an optimizer"
      ],
      "metadata": {
        "id": "QjMjnUHgSlWD"
      }
    },
    {
      "cell_type": "code",
      "source": [
        "optimizer = torch.optim.SGD(net.parameters(), lr=0.01)"
      ],
      "metadata": {
        "id": "7iGRkAd5SmPT"
      },
      "execution_count": null,
      "outputs": []
    },
    {
      "cell_type": "markdown",
      "source": [
        "### Define the STDP rule"
      ],
      "metadata": {
        "id": "w9wDNievca0y"
      }
    },
    {
      "cell_type": "code",
      "source": [
        "def stdp(s_pre, s_post, w, a_plus, a_minus, tau_plus, tau_minus):\n",
        "    # Calculate the STDP update\n",
        "    dw = a_plus * s_pre * torch.exp(-s_post/tau_minus) - a_minus * s_post * torch.exp(-s_pre/tau_plus)\n",
        "    # Apply the update to the weights\n",
        "    w += dw\n",
        "    return w\n",
        "\n",
        "# Define the reward modulation function\n",
        "def reward_modulation(r, dw, beta):\n",
        "    # Modulate the STDP updates based on the reward\n",
        "    dw *= r * beta\n",
        "    return dw"
      ],
      "metadata": {
        "id": "itFVJmVRceba"
      },
      "execution_count": null,
      "outputs": []
    },
    {
      "cell_type": "markdown",
      "source": [
        "### Define the data"
      ],
      "metadata": {
        "id": "yZ1ifQrpTRiD"
      }
    },
    {
      "cell_type": "code",
      "source": [
        "inputs = torch.tensor([\n",
        "    [0, 0, 0, 0],  # 0\n",
        "    [0, 0, 0, 1],  # 1\n",
        "    [0, 0, 1, 0],  # 2\n",
        "    [0, 0, 1, 1],  # 3\n",
        "    [0, 1, 0, 0],  # 4\n",
        "    [0, 1, 0, 1],  # 5\n",
        "    [0, 1, 1, 0],  # 6\n",
        "    [0, 1, 1, 1],  # 7\n",
        "    [1, 0, 0, 0],  # 8\n",
        "    [1, 0, 0, 1],  # 9\n",
        "])\n",
        "\n",
        "targets = torch.tensor([0, 1, 2, 3, 4, 5, 6, 7, 8, 9])"
      ],
      "metadata": {
        "id": "T571ZlNcS_8D"
      },
      "execution_count": null,
      "outputs": []
    },
    {
      "cell_type": "markdown",
      "source": [
        "### Create a DataLoader"
      ],
      "metadata": {
        "id": "TJHBl4AQTTt8"
      }
    },
    {
      "cell_type": "code",
      "source": [
        "trainloader = DataLoader(list(zip(inputs, targets)), batch_size=1, shuffle=True)"
      ],
      "metadata": {
        "id": "pK0dJpAtTfXi"
      },
      "execution_count": null,
      "outputs": []
    },
    {
      "cell_type": "markdown",
      "source": [
        "### Define a training loop"
      ],
      "metadata": {
        "id": "cck5WjY3S7_E"
      }
    },
    {
      "cell_type": "code",
      "source": [
        "for epoch in range(100):\n",
        "    running_loss = 0.0\n",
        "    for i, data in enumerate(trainloader, 0):\n",
        "        inputs, labels = data\n",
        "\n",
        "        # Convert the input data to float\n",
        "        input_data_float = inputs.float()\n",
        "\n",
        "        # Now use the float data for spike generation\n",
        "        input_spike_data = snn.spikegen.rate(input_data_float, time_var_input=True)\n",
        "\n",
        "        # If your input data is not time-varying\n",
        "        # Assume num_steps is the number of time steps you want\n",
        "        target_data_float = targets.float()\n",
        "        label_spike_data = snn.spikegen.rate(target_data_float, num_steps=4)\n",
        "\n",
        "        # Zero the parameter gradients\n",
        "        optimizer.zero_grad()\n",
        "\n",
        "        # Forward pass\n",
        "        outputs, s_pre, s_post = net(input_spike_data)\n",
        "\n",
        "\n",
        "        # Compute loss\n",
        "        loss = loss_fn(outputs, label_spike_data)\n",
        "\n",
        "        # Backward pass and optimize\n",
        "        loss.backward()\n",
        "        optimizer.step()\n",
        "\n",
        "        # Apply STDP\n",
        "        for name, param in net.named_parameters():\n",
        "            if 'weight' in name:\n",
        "                dw = stdp(s_pre.detach(), s_post.detach(), param.data, a_plus=0.01, a_minus=0.01, tau_plus=20.0, tau_minus=20.0)  # Detach s_pre and s_post here\n",
        "                param.data = reward_modulation(r=1.0, dw=dw, beta=0.01)\n",
        "\n",
        "        # Print statistics\n",
        "        running_loss += loss.item()\n",
        "        if i % 2000 == 1999:  # Print every 2000 mini-batches\n",
        "            print('[%d, %5d] loss: %.3f' % (epoch + 1, i + 1, running_loss / 2000))\n",
        "            running_loss = 0.0"
      ],
      "metadata": {
        "id": "z8tvV-hlS4yT",
        "colab": {
          "base_uri": "https://localhost:8080/",
          "height": 411
        },
        "outputId": "edbbf008-7322-42d0-bc2e-a514ca715017"
      },
      "execution_count": null,
      "outputs": [
        {
          "output_type": "stream",
          "name": "stderr",
          "text": [
            "/usr/local/lib/python3.10/dist-packages/torch/nn/modules/loss.py:536: UserWarning: Using a target size (torch.Size([4, 10])) that is different to the input size (torch.Size([1, 10])). This will likely lead to incorrect results due to broadcasting. Please ensure they have the same size.\n",
            "  return F.mse_loss(input, target, reduction=self.reduction)\n"
          ]
        },
        {
          "output_type": "error",
          "ename": "RuntimeError",
          "evalue": "ignored",
          "traceback": [
            "\u001b[0;31m---------------------------------------------------------------------------\u001b[0m",
            "\u001b[0;31mRuntimeError\u001b[0m                              Traceback (most recent call last)",
            "\u001b[0;32m<ipython-input-10-69f19f9c14d1>\u001b[0m in \u001b[0;36m<cell line: 1>\u001b[0;34m()\u001b[0m\n\u001b[1;32m     32\u001b[0m         \u001b[0;32mfor\u001b[0m \u001b[0mname\u001b[0m\u001b[0;34m,\u001b[0m \u001b[0mparam\u001b[0m \u001b[0;32min\u001b[0m \u001b[0mnet\u001b[0m\u001b[0;34m.\u001b[0m\u001b[0mnamed_parameters\u001b[0m\u001b[0;34m(\u001b[0m\u001b[0;34m)\u001b[0m\u001b[0;34m:\u001b[0m\u001b[0;34m\u001b[0m\u001b[0;34m\u001b[0m\u001b[0m\n\u001b[1;32m     33\u001b[0m             \u001b[0;32mif\u001b[0m \u001b[0;34m'weight'\u001b[0m \u001b[0;32min\u001b[0m \u001b[0mname\u001b[0m\u001b[0;34m:\u001b[0m\u001b[0;34m\u001b[0m\u001b[0;34m\u001b[0m\u001b[0m\n\u001b[0;32m---> 34\u001b[0;31m                 \u001b[0mdw\u001b[0m \u001b[0;34m=\u001b[0m \u001b[0mstdp\u001b[0m\u001b[0;34m(\u001b[0m\u001b[0ms_pre\u001b[0m\u001b[0;34m.\u001b[0m\u001b[0mdetach\u001b[0m\u001b[0;34m(\u001b[0m\u001b[0;34m)\u001b[0m\u001b[0;34m,\u001b[0m \u001b[0ms_post\u001b[0m\u001b[0;34m.\u001b[0m\u001b[0mdetach\u001b[0m\u001b[0;34m(\u001b[0m\u001b[0;34m)\u001b[0m\u001b[0;34m,\u001b[0m \u001b[0mparam\u001b[0m\u001b[0;34m.\u001b[0m\u001b[0mdata\u001b[0m\u001b[0;34m,\u001b[0m \u001b[0ma_plus\u001b[0m\u001b[0;34m=\u001b[0m\u001b[0;36m0.01\u001b[0m\u001b[0;34m,\u001b[0m \u001b[0ma_minus\u001b[0m\u001b[0;34m=\u001b[0m\u001b[0;36m0.01\u001b[0m\u001b[0;34m,\u001b[0m \u001b[0mtau_plus\u001b[0m\u001b[0;34m=\u001b[0m\u001b[0;36m20.0\u001b[0m\u001b[0;34m,\u001b[0m \u001b[0mtau_minus\u001b[0m\u001b[0;34m=\u001b[0m\u001b[0;36m20.0\u001b[0m\u001b[0;34m)\u001b[0m  \u001b[0;31m# Detach s_pre and s_post here\u001b[0m\u001b[0;34m\u001b[0m\u001b[0;34m\u001b[0m\u001b[0m\n\u001b[0m\u001b[1;32m     35\u001b[0m                 \u001b[0mparam\u001b[0m\u001b[0;34m.\u001b[0m\u001b[0mdata\u001b[0m \u001b[0;34m=\u001b[0m \u001b[0mreward_modulation\u001b[0m\u001b[0;34m(\u001b[0m\u001b[0mr\u001b[0m\u001b[0;34m=\u001b[0m\u001b[0;36m1.0\u001b[0m\u001b[0;34m,\u001b[0m \u001b[0mdw\u001b[0m\u001b[0;34m=\u001b[0m\u001b[0mdw\u001b[0m\u001b[0;34m,\u001b[0m \u001b[0mbeta\u001b[0m\u001b[0;34m=\u001b[0m\u001b[0;36m0.01\u001b[0m\u001b[0;34m)\u001b[0m\u001b[0;34m\u001b[0m\u001b[0;34m\u001b[0m\u001b[0m\n\u001b[1;32m     36\u001b[0m \u001b[0;34m\u001b[0m\u001b[0m\n",
            "\u001b[0;32m<ipython-input-7-a258892286d5>\u001b[0m in \u001b[0;36mstdp\u001b[0;34m(s_pre, s_post, w, a_plus, a_minus, tau_plus, tau_minus)\u001b[0m\n\u001b[1;32m      1\u001b[0m \u001b[0;32mdef\u001b[0m \u001b[0mstdp\u001b[0m\u001b[0;34m(\u001b[0m\u001b[0ms_pre\u001b[0m\u001b[0;34m,\u001b[0m \u001b[0ms_post\u001b[0m\u001b[0;34m,\u001b[0m \u001b[0mw\u001b[0m\u001b[0;34m,\u001b[0m \u001b[0ma_plus\u001b[0m\u001b[0;34m,\u001b[0m \u001b[0ma_minus\u001b[0m\u001b[0;34m,\u001b[0m \u001b[0mtau_plus\u001b[0m\u001b[0;34m,\u001b[0m \u001b[0mtau_minus\u001b[0m\u001b[0;34m)\u001b[0m\u001b[0;34m:\u001b[0m\u001b[0;34m\u001b[0m\u001b[0;34m\u001b[0m\u001b[0m\n\u001b[1;32m      2\u001b[0m     \u001b[0;31m# Calculate the STDP update\u001b[0m\u001b[0;34m\u001b[0m\u001b[0;34m\u001b[0m\u001b[0m\n\u001b[0;32m----> 3\u001b[0;31m     \u001b[0mdw\u001b[0m \u001b[0;34m=\u001b[0m \u001b[0ma_plus\u001b[0m \u001b[0;34m*\u001b[0m \u001b[0ms_pre\u001b[0m \u001b[0;34m*\u001b[0m \u001b[0mtorch\u001b[0m\u001b[0;34m.\u001b[0m\u001b[0mexp\u001b[0m\u001b[0;34m(\u001b[0m\u001b[0;34m-\u001b[0m\u001b[0ms_post\u001b[0m\u001b[0;34m/\u001b[0m\u001b[0mtau_minus\u001b[0m\u001b[0;34m)\u001b[0m \u001b[0;34m-\u001b[0m \u001b[0ma_minus\u001b[0m \u001b[0;34m*\u001b[0m \u001b[0ms_post\u001b[0m \u001b[0;34m*\u001b[0m \u001b[0mtorch\u001b[0m\u001b[0;34m.\u001b[0m\u001b[0mexp\u001b[0m\u001b[0;34m(\u001b[0m\u001b[0;34m-\u001b[0m\u001b[0ms_pre\u001b[0m\u001b[0;34m/\u001b[0m\u001b[0mtau_plus\u001b[0m\u001b[0;34m)\u001b[0m\u001b[0;34m\u001b[0m\u001b[0;34m\u001b[0m\u001b[0m\n\u001b[0m\u001b[1;32m      4\u001b[0m     \u001b[0;31m# Apply the update to the weights\u001b[0m\u001b[0;34m\u001b[0m\u001b[0;34m\u001b[0m\u001b[0m\n\u001b[1;32m      5\u001b[0m     \u001b[0mw\u001b[0m \u001b[0;34m+=\u001b[0m \u001b[0mdw\u001b[0m\u001b[0;34m\u001b[0m\u001b[0;34m\u001b[0m\u001b[0m\n",
            "\u001b[0;31mRuntimeError\u001b[0m: The size of tensor a (100) must match the size of tensor b (10) at non-singleton dimension 1"
          ]
        }
      ]
    },
    {
      "cell_type": "code",
      "source": [
        "import torch\n",
        "import snntorch as snn\n",
        "from snntorch import spikegen\n",
        "from torch.utils.data import TensorDataset, DataLoader\n",
        "\n",
        "class STDPNetwork(torch.nn.Module):\n",
        "    def __init__(self, input_size, hidden_size, output_size):\n",
        "        super(STDPNetwork, self).__init__()\n",
        "        self.fc1 = torch.nn.Linear(input_size, hidden_size)\n",
        "        self.lif1 = snn.Leaky(beta=0.1)\n",
        "        self.fc2 = torch.nn.Linear(hidden_size, output_size)\n",
        "        self.lif2 = snn.Leaky(beta=0.1)\n",
        "\n",
        "        # Initialize mem_0 and mem_1 for both layers\n",
        "        self.mem_0_1 = torch.zeros(hidden_size)\n",
        "        self.mem_1_1 = torch.zeros(hidden_size)\n",
        "        self.mem_0_2 = torch.zeros(output_size)\n",
        "        self.mem_1_2 = torch.zeros(output_size)\n",
        "\n",
        "    def forward(self, x):\n",
        "      x = self.fc1(x)\n",
        "      x, self.mem_0_1 = self.lif1(x, self.mem_0_1)\n",
        "      x = self.fc2(x)\n",
        "      x, self.mem_0_2 = self.lif2(x, self.mem_0_2)\n",
        "      return x, self.mem_0_1, self.mem_0_2\n",
        "\n",
        "input_size = 4\n",
        "hidden_size = 100\n",
        "output_size = 10\n",
        "net = STDPNetwork(input_size, hidden_size, output_size)\n",
        "\n",
        "loss_fn = torch.nn.MSELoss()\n",
        "\n",
        "optimizer = torch.optim.SGD(net.parameters(), lr=0.01)\n",
        "\n",
        "def stdp(s_pre, s_post, w, a_plus, a_minus, tau_plus, tau_minus):\n",
        "    # Calculate the STDP update\n",
        "    dw = a_plus * s_pre * torch.exp(-s_post/tau_minus) - a_minus * s_post * torch.exp(-s_pre/tau_plus)\n",
        "    # Apply the update to the weights\n",
        "    w += dw\n",
        "    return w\n",
        "\n",
        "# Define the reward modulation function\n",
        "def reward_modulation(r, dw, beta):\n",
        "    # Modulate the STDP updates based on the reward\n",
        "    dw *= r * beta\n",
        "    return dw\n",
        "\n",
        "inputs = torch.tensor([\n",
        "    [0, 0, 0, 0],  # 0\n",
        "    [0, 0, 0, 1],  # 1\n",
        "    [0, 0, 1, 0],  # 2\n",
        "    [0, 0, 1, 1],  # 3\n",
        "    [0, 1, 0, 0],  # 4\n",
        "    [0, 1, 0, 1],  # 5\n",
        "    [0, 1, 1, 0],  # 6\n",
        "    [0, 1, 1, 1],  # 7\n",
        "    [1, 0, 0, 0],  # 8\n",
        "    [1, 0, 0, 1],  # 9\n",
        "])\n",
        "\n",
        "targets = torch.tensor([0, 1, 2, 3, 4, 5, 6, 7, 8, 9])\n",
        "\n",
        "trainloader = DataLoader(list(zip(inputs, targets)), batch_size=1, shuffle=True)\n",
        "\n",
        "for epoch in range(100):\n",
        "    running_loss = 0.0\n",
        "    for i, data in enumerate(trainloader, 0):\n",
        "        inputs, labels = data\n",
        "\n",
        "        # Convert the input data to float\n",
        "        input_data_float = inputs.float()\n",
        "\n",
        "        # Now use the float data for spike generation\n",
        "        input_spike_data = snn.spikegen.rate(input_data_float, time_var_input=True)\n",
        "\n",
        "        # If your input data is not time-varying\n",
        "        # Assume num_steps is the number of time steps you want\n",
        "        target_data_float = targets.float()\n",
        "        label_spike_data = snn.spikegen.rate(target_data_float, num_steps=4)\n",
        "\n",
        "        # Zero the parameter gradients\n",
        "        optimizer.zero_grad()\n",
        "\n",
        "        # Forward pass\n",
        "        outputs, s_pre, s_post = net(input_spike_data)\n",
        "\n",
        "\n",
        "        # Compute loss\n",
        "        loss = loss_fn(outputs, label_spike_data)\n",
        "\n",
        "        # Backward pass and optimize\n",
        "        loss.backward()\n",
        "        optimizer.step()\n",
        "\n",
        "        # Apply STDP\n",
        "        for name, param in net.named_parameters():\n",
        "            if 'weight' in name:\n",
        "                dw = stdp(s_pre.detach(), s_post.detach(), param.data, a_plus=0.01, a_minus=0.01, tau_plus=20.0, tau_minus=20.0)  # Detach s_pre and s_post here\n",
        "                param.data = reward_modulation(r=1.0, dw=dw, beta=0.01)\n",
        "\n",
        "        # Print statistics\n",
        "        running_loss += loss.item()\n",
        "        if i % 2000 == 1999:  # Print every 2000 mini-batches\n",
        "            print('[%d, %5d] loss: %.3f' % (epoch + 1, i + 1, running_loss / 2000))\n",
        "            running_loss = 0.0"
      ],
      "metadata": {
        "id": "4EdL-fTQRNTW"
      },
      "execution_count": null,
      "outputs": []
    },
    {
      "cell_type": "code",
      "source": [
        "import snntorch.spikeplot as splt\n",
        "import snntorch as snn\n",
        "import torch\n",
        "import matplotlib.pyplot as plt\n",
        "\n",
        "# Convert the input data to float\n",
        "input_data_float = inputs.float()\n",
        "\n",
        "# Now use the float data for spike generation\n",
        "spike_data = snn.spikegen.rate(input_data_float, time_var_input=True)\n",
        "\n",
        "# If your input data is not time-varying\n",
        "# Assume num_steps is the number of time steps you want\n",
        "target_data_float = targets.float()\n",
        "spike_data = snn.spikegen.rate(target_data_float, num_steps=4)\n",
        "\n",
        "\n",
        "\n",
        "\n",
        "fig, ax = plt.subplots()  # create a new figure with a single Axes\n",
        "splt.raster(spike_data, ax)  # pass the Axes object to the raster() function\n",
        "plt.show()  # display the plot\n"
      ],
      "metadata": {
        "colab": {
          "base_uri": "https://localhost:8080/",
          "height": 430
        },
        "id": "bKt8fU9Me9qU",
        "outputId": "00c98273-3611-4694-881c-cff451b1aa9d"
      },
      "execution_count": null,
      "outputs": [
        {
          "output_type": "display_data",
          "data": {
            "text/plain": [
              "<Figure size 640x480 with 1 Axes>"
            ],
            "image/png": "[encoded data removed]"
          },
          "metadata": {}
        }
      ]
    },
    {
      "cell_type": "code",
      "source": [
        "!pip install brian2"
      ],
      "metadata": {
        "colab": {
          "base_uri": "https://localhost:8080/"
        },
        "id": "EwUTuVA6Priy",
        "outputId": "61ffabd9-6676-47ee-f866-8d8d1e2a3435"
      },
      "execution_count": null,
      "outputs": [
        {
          "output_type": "stream",
          "name": "stdout",
          "text": [
            "Looking in indexes: https://pypi.org/simple, https://us-python.pkg.dev/colab-wheels/public/simple/\n",
            "Collecting brian2\n",
            "  Downloading Brian2-2.5.2-cp310-cp310-manylinux_2_17_x86_64.manylinux2014_x86_64.whl (1.5 MB)\n",
            "\u001b[2K     \u001b[90m━━━━━━━━━━━━━━━━━━━━━━━━━━━━━━━━━━━━━━━━\u001b[0m \u001b[32m1.5/1.5 MB\u001b[0m \u001b[31m26.4 MB/s\u001b[0m eta \u001b[36m0:00:00\u001b[0m\n",
            "\u001b[?25hRequirement already satisfied: numpy>=1.21 in /usr/local/lib/python3.10/dist-packages (from brian2) (1.22.4)\n",
            "Requirement already satisfied: cython>=0.29 in /usr/local/lib/python3.10/dist-packages (from brian2) (0.29.35)\n",
            "Requirement already satisfied: sympy>=1.2 in /usr/local/lib/python3.10/dist-packages (from brian2) (1.11.1)\n",
            "Requirement already satisfied: pyparsing in /usr/local/lib/python3.10/dist-packages (from brian2) (3.1.0)\n",
            "Requirement already satisfied: jinja2>=2.7 in /usr/local/lib/python3.10/dist-packages (from brian2) (3.1.2)\n",
            "Requirement already satisfied: setuptools>=24.2 in /usr/local/lib/python3.10/dist-packages (from brian2) (67.7.2)\n",
            "Requirement already satisfied: packaging in /usr/local/lib/python3.10/dist-packages (from brian2) (23.1)\n",
            "Requirement already satisfied: MarkupSafe>=2.0 in /usr/local/lib/python3.10/dist-packages (from jinja2>=2.7->brian2) (2.1.3)\n",
            "Requirement already satisfied: mpmath>=0.19 in /usr/local/lib/python3.10/dist-packages (from sympy>=1.2->brian2) (1.3.0)\n",
            "Installing collected packages: brian2\n",
            "Successfully installed brian2-2.5.2\n"
          ]
        }
      ]
    },
    {
      "cell_type": "code",
      "source": [
        "from brian2 import *\n",
        "\n",
        "# Parameters\n",
        "num_inputs = 4\n",
        "num_outputs = 10\n",
        "duration = 100*ms\n",
        "\n",
        "# Range of weights\n",
        "weight_min = 0.0\n",
        "weight_max = 1.0\n",
        "\n",
        "# STDP learning parameters\n",
        "taupre = taupost = 20*ms\n",
        "wmax = 0.01\n",
        "Apre = 0.01\n",
        "Apost = -Apre*taupre/taupost*1.05\n",
        "\n",
        "# Neuron model\n",
        "eqs_neurons = '''\n",
        "dv/dt = (I-v) / (10*ms) : 1 (unless refractory)\n",
        "I : 1\n",
        "'''\n",
        "\n",
        "# Create neurons\n",
        "G = NeuronGroup(num_outputs, eqs_neurons, threshold='v>1', reset='v = 0', refractory=5*ms, method='exact')\n",
        "\n",
        "# Initialize weights\n",
        "weights = np.random.rand(num_inputs, num_outputs)*(weight_max - weight_min) + weight_min\n",
        "\n",
        "# Create synapses\n",
        "S = Synapses(G, G,\n",
        "             '''\n",
        "             w : 1\n",
        "             dapre/dt = -apre/taupre : 1 (event-driven)\n",
        "             dapost/dt = -apost/taupost : 1 (event-driven)\n",
        "             ''',\n",
        "             on_pre='''\n",
        "             v_post += w\n",
        "             apre += Apre\n",
        "             w = clip(w+apost, 0, wmax)\n",
        "             ''',\n",
        "             on_post='''\n",
        "             apost += Apost\n",
        "             w = clip(w+apre, 0, wmax)\n",
        "             ''')\n",
        "\n",
        "S.connect()\n",
        "S.w = weights.flatten()\n",
        "\n",
        "# Create input and run simulation\n",
        "input = np.random.randint(2, size=(num_inputs, int(duration/defaultclock.dt)))\n",
        "states = StateMonitor(G, 'v', record=True)\n",
        "spikes = SpikeMonitor(G)\n",
        "\n",
        "run(duration)\n",
        "\n",
        "# Plot results\n",
        "figure(figsize=(12,4))\n",
        "subplot(121)\n",
        "plot(spikes.t/ms, spikes.i, '.k')\n",
        "xlabel('Time (ms)')\n",
        "ylabel('Neuron index')\n",
        "subplot(122)\n",
        "plot(states.t/ms, states.v[0], '-k')\n",
        "xlabel('Time (ms)')\n",
        "ylabel('v')\n",
        "tight_layout()\n",
        "show()\n"
      ],
      "metadata": {
        "id": "t1SZJrJQgDaz",
        "colab": {
          "base_uri": "https://localhost:8080/",
          "height": 744
        },
        "outputId": "c51647bb-492f-4f40-ef8d-41cbff7df2cb"
      },
      "execution_count": null,
      "outputs": [
        {
          "output_type": "error",
          "ename": "ValueError",
          "evalue": "ignored",
          "traceback": [
            "\u001b[0;31m---------------------------------------------------------------------------\u001b[0m",
            "\u001b[0;31mValueError\u001b[0m                                Traceback (most recent call last)",
            "\u001b[0;32m<ipython-input-3-71a37a1e9306>\u001b[0m in \u001b[0;36m<cell line: 48>\u001b[0;34m()\u001b[0m\n\u001b[1;32m     46\u001b[0m \u001b[0;34m\u001b[0m\u001b[0m\n\u001b[1;32m     47\u001b[0m \u001b[0mS\u001b[0m\u001b[0;34m.\u001b[0m\u001b[0mconnect\u001b[0m\u001b[0;34m(\u001b[0m\u001b[0;34m)\u001b[0m\u001b[0;34m\u001b[0m\u001b[0;34m\u001b[0m\u001b[0m\n\u001b[0;32m---> 48\u001b[0;31m \u001b[0mS\u001b[0m\u001b[0;34m.\u001b[0m\u001b[0mw\u001b[0m \u001b[0;34m=\u001b[0m \u001b[0mweights\u001b[0m\u001b[0;34m.\u001b[0m\u001b[0mflatten\u001b[0m\u001b[0;34m(\u001b[0m\u001b[0;34m)\u001b[0m\u001b[0;34m\u001b[0m\u001b[0;34m\u001b[0m\u001b[0m\n\u001b[0m\u001b[1;32m     49\u001b[0m \u001b[0;34m\u001b[0m\u001b[0m\n\u001b[1;32m     50\u001b[0m \u001b[0;31m# Create input and run simulation\u001b[0m\u001b[0;34m\u001b[0m\u001b[0;34m\u001b[0m\u001b[0m\n",
            "\u001b[0;32m/usr/local/lib/python3.10/dist-packages/brian2/groups/group.py\u001b[0m in \u001b[0;36m__setattr__\u001b[0;34m(self, name, val, level)\u001b[0m\n\u001b[1;32m    454\u001b[0m                 \u001b[0;32mraise\u001b[0m \u001b[0mTypeError\u001b[0m\u001b[0;34m(\u001b[0m\u001b[0;34mf\"Variable {name} is read-only.\"\u001b[0m\u001b[0;34m)\u001b[0m\u001b[0;34m\u001b[0m\u001b[0;34m\u001b[0m\u001b[0m\n\u001b[1;32m    455\u001b[0m             \u001b[0;31m# Make the call X.var = ... equivalent to X.var[:] = ...\u001b[0m\u001b[0;34m\u001b[0m\u001b[0;34m\u001b[0m\u001b[0m\n\u001b[0;32m--> 456\u001b[0;31m             var.get_addressable_value_with_unit(name, self).set_item(\n\u001b[0m\u001b[1;32m    457\u001b[0m                 \u001b[0mslice\u001b[0m\u001b[0;34m(\u001b[0m\u001b[0;32mNone\u001b[0m\u001b[0;34m)\u001b[0m\u001b[0;34m,\u001b[0m \u001b[0mval\u001b[0m\u001b[0;34m,\u001b[0m \u001b[0mlevel\u001b[0m\u001b[0;34m=\u001b[0m\u001b[0mlevel\u001b[0m \u001b[0;34m+\u001b[0m \u001b[0;36m1\u001b[0m\u001b[0;34m\u001b[0m\u001b[0;34m\u001b[0m\u001b[0m\n\u001b[1;32m    458\u001b[0m             )\n",
            "\u001b[0;32m/usr/local/lib/python3.10/dist-packages/brian2/core/variables.py\u001b[0m in \u001b[0;36mset_item\u001b[0;34m(self, item, value, level, namespace)\u001b[0m\n\u001b[1;32m    980\u001b[0m             \u001b[0;32mif\u001b[0m \u001b[0mitem\u001b[0m \u001b[0;34m==\u001b[0m \u001b[0;34m\"True\"\u001b[0m\u001b[0;34m:\u001b[0m\u001b[0;34m\u001b[0m\u001b[0;34m\u001b[0m\u001b[0m\n\u001b[1;32m    981\u001b[0m                 \u001b[0;31m# We do not want to go through code generation for runtime\u001b[0m\u001b[0;34m\u001b[0m\u001b[0;34m\u001b[0m\u001b[0m\n\u001b[0;32m--> 982\u001b[0;31m                 \u001b[0mself\u001b[0m\u001b[0;34m.\u001b[0m\u001b[0mset_with_index_array\u001b[0m\u001b[0;34m(\u001b[0m\u001b[0mslice\u001b[0m\u001b[0;34m(\u001b[0m\u001b[0;32mNone\u001b[0m\u001b[0;34m)\u001b[0m\u001b[0;34m,\u001b[0m \u001b[0mvalue\u001b[0m\u001b[0;34m,\u001b[0m \u001b[0mcheck_units\u001b[0m\u001b[0;34m=\u001b[0m\u001b[0mcheck_units\u001b[0m\u001b[0;34m)\u001b[0m\u001b[0;34m\u001b[0m\u001b[0;34m\u001b[0m\u001b[0m\n\u001b[0m\u001b[1;32m    983\u001b[0m             \u001b[0;32melse\u001b[0m\u001b[0;34m:\u001b[0m\u001b[0;34m\u001b[0m\u001b[0;34m\u001b[0m\u001b[0m\n\u001b[1;32m    984\u001b[0m                 self.set_with_expression_conditional(\n",
            "\u001b[0;32m/usr/local/lib/python3.10/dist-packages/brian2/core/base.py\u001b[0m in \u001b[0;36mdevice_override_decorated_function\u001b[0;34m(*args, **kwds)\u001b[0m\n\u001b[1;32m    333\u001b[0m                 \u001b[0;32mreturn\u001b[0m \u001b[0mgetattr\u001b[0m\u001b[0;34m(\u001b[0m\u001b[0mcurdev\u001b[0m\u001b[0;34m,\u001b[0m \u001b[0mname\u001b[0m\u001b[0;34m)\u001b[0m\u001b[0;34m(\u001b[0m\u001b[0;34m*\u001b[0m\u001b[0margs\u001b[0m\u001b[0;34m,\u001b[0m \u001b[0;34m**\u001b[0m\u001b[0mkwds\u001b[0m\u001b[0;34m)\u001b[0m\u001b[0;34m\u001b[0m\u001b[0;34m\u001b[0m\u001b[0m\n\u001b[1;32m    334\u001b[0m             \u001b[0;32melse\u001b[0m\u001b[0;34m:\u001b[0m\u001b[0;34m\u001b[0m\u001b[0;34m\u001b[0m\u001b[0m\n\u001b[0;32m--> 335\u001b[0;31m                 \u001b[0;32mreturn\u001b[0m \u001b[0mfunc\u001b[0m\u001b[0;34m(\u001b[0m\u001b[0;34m*\u001b[0m\u001b[0margs\u001b[0m\u001b[0;34m,\u001b[0m \u001b[0;34m**\u001b[0m\u001b[0mkwds\u001b[0m\u001b[0;34m)\u001b[0m\u001b[0;34m\u001b[0m\u001b[0;34m\u001b[0m\u001b[0m\n\u001b[0m\u001b[1;32m    336\u001b[0m \u001b[0;34m\u001b[0m\u001b[0m\n\u001b[1;32m    337\u001b[0m         \u001b[0mdevice_override_decorated_function\u001b[0m\u001b[0;34m.\u001b[0m\u001b[0moriginal_function\u001b[0m \u001b[0;34m=\u001b[0m \u001b[0mfunc\u001b[0m\u001b[0;34m\u001b[0m\u001b[0;34m\u001b[0m\u001b[0m\n",
            "\u001b[0;32m/usr/local/lib/python3.10/dist-packages/brian2/core/variables.py\u001b[0m in \u001b[0;36mset_with_index_array\u001b[0;34m(self, item, value, check_units)\u001b[0m\n\u001b[1;32m   1323\u001b[0m                         \u001b[0;34mf\"{len(q)} != {len(indices)}.\"\u001b[0m\u001b[0;34m\u001b[0m\u001b[0;34m\u001b[0m\u001b[0m\n\u001b[1;32m   1324\u001b[0m                     )\n\u001b[0;32m-> 1325\u001b[0;31m         \u001b[0mvariable\u001b[0m\u001b[0;34m.\u001b[0m\u001b[0mget_value\u001b[0m\u001b[0;34m(\u001b[0m\u001b[0;34m)\u001b[0m\u001b[0;34m[\u001b[0m\u001b[0mindices\u001b[0m\u001b[0;34m]\u001b[0m \u001b[0;34m=\u001b[0m \u001b[0mvalue\u001b[0m\u001b[0;34m\u001b[0m\u001b[0;34m\u001b[0m\u001b[0m\n\u001b[0m\u001b[1;32m   1326\u001b[0m \u001b[0;34m\u001b[0m\u001b[0m\n\u001b[1;32m   1327\u001b[0m     \u001b[0;31m# Allow some basic calculations directly on the ArrayView object\u001b[0m\u001b[0;34m\u001b[0m\u001b[0;34m\u001b[0m\u001b[0m\n",
            "\u001b[0;31mValueError\u001b[0m: could not broadcast input array from shape (40,) into shape (100,)"
          ]
        }
      ]
    },
    {
      "cell_type": "code",
      "source": [],
      "metadata": {
        "id": "r4gFqcjDPjZF"
      },
      "execution_count": null,
      "outputs": []
    }
  ]
}